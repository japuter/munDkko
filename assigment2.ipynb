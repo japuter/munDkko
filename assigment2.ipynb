{
 "cells": [
  {
   "cell_type": "markdown",
   "metadata": {},
   "source": [
    "# 🏥 Breast Cancer Diagnosis using kNN"
   ]
  },
  {
   "cell_type": "markdown",
   "metadata": {},
   "source": [
    "---\n",
    "&nbsp;"
   ]
  },
  {
   "cell_type": "markdown",
   "metadata": {},
   "source": [
    "# Table of Contents\n",
    "1. [Business Understanding](#business-understanding)\n",
    "2. [Data Understanding](#data-understanding)\n",
    "3. [Data Preparation](#data-preparation)\n",
    "4. [Modeling](#modeling)\n",
    "5. [Evaluation](#evaluation)\n",
    "6. [Conclusion](#conclusion)"
   ]
  },
  {
   "cell_type": "markdown",
   "metadata": {},
   "source": [
    "---\n",
    "&nbsp;"
   ]
  },
  {
   "cell_type": "markdown",
   "metadata": {},
   "source": [
    "## 🎯 Business Understanding\n",
    "Breast cancer diagnosis is a critical problem in healthcare, and an accurate classification model can help in early detection, potentially improving patient outcomes. When a new patient’s tumor features **(e.g., radius, texture, smoothness, compactness)** are entered into the system, the kNN classifier predicts whether the tumor is malignant (M) or benign (B).\n",
    "The goal of of this analysis is to train a binary classifier for predicting the cancer diagnosis (malignant / benign). We will use the breast cancer dataset that is available at 🔗 [Breast Cancer Dataset](https://archive.ics.uci.edu/dataset/17/breast+cancer+wisconsin+diagnostic)\n"
   ]
  },
  {
   "cell_type": "markdown",
   "metadata": {},
   "source": [
    "---\n",
    "&nbsp;"
   ]
  },
  {
   "cell_type": "markdown",
   "metadata": {},
   "source": [
    "## 🔍 Data Understanding\n",
    "There was no column names so i had to make them myself. I understand now that they often come as raw data file. Theres no quality issues with the data. Down there you can see the column names and the values. \n",
    "I'll explain column 2 now, Diagnosis (M = malignant, B = benign). \n",
    "Ten real-valued features are computed for each cell nucleus:\n",
    "radius (mean of distances from center to points on the perimeter),\n",
    "texture (standard deviation of gray-scale values)\n",
    "perimeter, area,\n",
    "smoothness (local variation in radius lengths),\n",
    " compactness (perimeter^2 / area - 1.0),\n",
    "concavity (severity of concave portions of the contour),\n",
    "concave points (number of concave portions of the contour),\n",
    "symmetry,\n",
    "fractal dimension (\"coastline approximation\" - 1) <br>\n",
    "Down below ive check for missing values and given us the Basic statistics\n"
   ]
  },
  {
   "cell_type": "code",
   "execution_count": 97,
   "metadata": {},
   "outputs": [
    {
     "name": "stdout",
     "output_type": "stream",
     "text": [
      "ID                    0\n",
      "Diagnosis             0\n",
      "radius1               0\n",
      "texture1              0\n",
      "perimeter1            0\n",
      "area1                 0\n",
      "smoothness1           0\n",
      "compactness1          0\n",
      "concavity1            0\n",
      "concave_points1       0\n",
      "symmetry1             0\n",
      "fractal_dimension1    0\n",
      "radius2               0\n",
      "texture2              0\n",
      "perimeter2            0\n",
      "area2                 0\n",
      "smoothness2           0\n",
      "compactness2          0\n",
      "concavity2            0\n",
      "concave_points2       0\n",
      "symmetry2             0\n",
      "fractal_dimension2    0\n",
      "radius3               0\n",
      "texture3              0\n",
      "perimeter3            0\n",
      "area3                 0\n",
      "smoothness3           0\n",
      "compactness3          0\n",
      "concavity3            0\n",
      "concave_points3       0\n",
      "symmetry3             0\n",
      "fractal_dimension3    0\n",
      "dtype: int64\n"
     ]
    }
   ],
   "source": [
    "import pandas as pd\n",
    "\n",
    "# let's define the column names based on the dataset description\n",
    "column_names = [\n",
    "    \"ID\", \"Diagnosis\",\n",
    "    \"radius1\", \"texture1\", \"perimeter1\", \"area1\", \"smoothness1\", \"compactness1\", \"concavity1\", \"concave_points1\", \"symmetry1\", \"fractal_dimension1\",\n",
    "    \"radius2\", \"texture2\", \"perimeter2\", \"area2\", \"smoothness2\", \"compactness2\", \"concavity2\", \"concave_points2\", \"symmetry2\", \"fractal_dimension2\",\n",
    "    \"radius3\", \"texture3\", \"perimeter3\", \"area3\", \"smoothness3\", \"compactness3\", \"concavity3\", \"concave_points3\", \"symmetry3\", \"fractal_dimension3\"\n",
    "]\n",
    "file_path = \"data.csv\"\n",
    "df = pd.read_csv(file_path, header=None, names=column_names)\n",
    "df.head()\n",
    "\n",
    "print(df.isnull().sum())  # Checking for missing values"
   ]
  },
  {
   "cell_type": "code",
   "execution_count": 98,
   "metadata": {},
   "outputs": [
    {
     "name": "stdout",
     "output_type": "stream",
     "text": [
      "                 ID     radius1    texture1  perimeter1        area1  \\\n",
      "count  5.690000e+02  569.000000  569.000000  569.000000   569.000000   \n",
      "mean   3.037183e+07   14.127292   19.289649   91.969033   654.889104   \n",
      "std    1.250206e+08    3.524049    4.301036   24.298981   351.914129   \n",
      "min    8.670000e+03    6.981000    9.710000   43.790000   143.500000   \n",
      "25%    8.692180e+05   11.700000   16.170000   75.170000   420.300000   \n",
      "50%    9.060240e+05   13.370000   18.840000   86.240000   551.100000   \n",
      "75%    8.813129e+06   15.780000   21.800000  104.100000   782.700000   \n",
      "max    9.113205e+08   28.110000   39.280000  188.500000  2501.000000   \n",
      "\n",
      "       smoothness1  compactness1  concavity1  concave_points1   symmetry1  \\\n",
      "count   569.000000    569.000000  569.000000       569.000000  569.000000   \n",
      "mean      0.096360      0.104341    0.088799         0.048919    0.181162   \n",
      "std       0.014064      0.052813    0.079720         0.038803    0.027414   \n",
      "min       0.052630      0.019380    0.000000         0.000000    0.106000   \n",
      "25%       0.086370      0.064920    0.029560         0.020310    0.161900   \n",
      "50%       0.095870      0.092630    0.061540         0.033500    0.179200   \n",
      "75%       0.105300      0.130400    0.130700         0.074000    0.195700   \n",
      "max       0.163400      0.345400    0.426800         0.201200    0.304000   \n",
      "\n",
      "       ...     radius3    texture3  perimeter3        area3  smoothness3  \\\n",
      "count  ...  569.000000  569.000000  569.000000   569.000000   569.000000   \n",
      "mean   ...   16.269190   25.677223  107.261213   880.583128     0.132369   \n",
      "std    ...    4.833242    6.146258   33.602542   569.356993     0.022832   \n",
      "min    ...    7.930000   12.020000   50.410000   185.200000     0.071170   \n",
      "25%    ...   13.010000   21.080000   84.110000   515.300000     0.116600   \n",
      "50%    ...   14.970000   25.410000   97.660000   686.500000     0.131300   \n",
      "75%    ...   18.790000   29.720000  125.400000  1084.000000     0.146000   \n",
      "max    ...   36.040000   49.540000  251.200000  4254.000000     0.222600   \n",
      "\n",
      "       compactness3  concavity3  concave_points3   symmetry3  \\\n",
      "count    569.000000  569.000000       569.000000  569.000000   \n",
      "mean       0.254265    0.272188         0.114606    0.290076   \n",
      "std        0.157336    0.208624         0.065732    0.061867   \n",
      "min        0.027290    0.000000         0.000000    0.156500   \n",
      "25%        0.147200    0.114500         0.064930    0.250400   \n",
      "50%        0.211900    0.226700         0.099930    0.282200   \n",
      "75%        0.339100    0.382900         0.161400    0.317900   \n",
      "max        1.058000    1.252000         0.291000    0.663800   \n",
      "\n",
      "       fractal_dimension3  \n",
      "count          569.000000  \n",
      "mean             0.083946  \n",
      "std              0.018061  \n",
      "min              0.055040  \n",
      "25%              0.071460  \n",
      "50%              0.080040  \n",
      "75%              0.092080  \n",
      "max              0.207500  \n",
      "\n",
      "[8 rows x 31 columns]\n"
     ]
    }
   ],
   "source": [
    "print(df.describe()) \n"
   ]
  },
  {
   "cell_type": "markdown",
   "metadata": {},
   "source": [
    "---\n",
    "&nbsp;"
   ]
  },
  {
   "cell_type": "markdown",
   "metadata": {},
   "source": [
    "## 🛠 Data Preparation\n",
    "To preprocess the data i chose names for each column, since there were no column names. \n"
   ]
  },
  {
   "cell_type": "code",
   "execution_count": 99,
   "metadata": {},
   "outputs": [
    {
     "data": {
      "text/html": [
       "<div>\n",
       "<style scoped>\n",
       "    .dataframe tbody tr th:only-of-type {\n",
       "        vertical-align: middle;\n",
       "    }\n",
       "\n",
       "    .dataframe tbody tr th {\n",
       "        vertical-align: top;\n",
       "    }\n",
       "\n",
       "    .dataframe thead th {\n",
       "        text-align: right;\n",
       "    }\n",
       "</style>\n",
       "<table border=\"1\" class=\"dataframe\">\n",
       "  <thead>\n",
       "    <tr style=\"text-align: right;\">\n",
       "      <th></th>\n",
       "      <th>ID</th>\n",
       "      <th>Diagnosis</th>\n",
       "      <th>radius1</th>\n",
       "      <th>texture1</th>\n",
       "      <th>perimeter1</th>\n",
       "      <th>area1</th>\n",
       "      <th>smoothness1</th>\n",
       "      <th>compactness1</th>\n",
       "      <th>concavity1</th>\n",
       "      <th>concave_points1</th>\n",
       "      <th>...</th>\n",
       "      <th>radius3</th>\n",
       "      <th>texture3</th>\n",
       "      <th>perimeter3</th>\n",
       "      <th>area3</th>\n",
       "      <th>smoothness3</th>\n",
       "      <th>compactness3</th>\n",
       "      <th>concavity3</th>\n",
       "      <th>concave_points3</th>\n",
       "      <th>symmetry3</th>\n",
       "      <th>fractal_dimension3</th>\n",
       "    </tr>\n",
       "  </thead>\n",
       "  <tbody>\n",
       "    <tr>\n",
       "      <th>0</th>\n",
       "      <td>842302</td>\n",
       "      <td>M</td>\n",
       "      <td>17.99</td>\n",
       "      <td>10.38</td>\n",
       "      <td>122.80</td>\n",
       "      <td>1001.0</td>\n",
       "      <td>0.11840</td>\n",
       "      <td>0.27760</td>\n",
       "      <td>0.3001</td>\n",
       "      <td>0.14710</td>\n",
       "      <td>...</td>\n",
       "      <td>25.38</td>\n",
       "      <td>17.33</td>\n",
       "      <td>184.60</td>\n",
       "      <td>2019.0</td>\n",
       "      <td>0.1622</td>\n",
       "      <td>0.6656</td>\n",
       "      <td>0.7119</td>\n",
       "      <td>0.2654</td>\n",
       "      <td>0.4601</td>\n",
       "      <td>0.11890</td>\n",
       "    </tr>\n",
       "    <tr>\n",
       "      <th>1</th>\n",
       "      <td>842517</td>\n",
       "      <td>M</td>\n",
       "      <td>20.57</td>\n",
       "      <td>17.77</td>\n",
       "      <td>132.90</td>\n",
       "      <td>1326.0</td>\n",
       "      <td>0.08474</td>\n",
       "      <td>0.07864</td>\n",
       "      <td>0.0869</td>\n",
       "      <td>0.07017</td>\n",
       "      <td>...</td>\n",
       "      <td>24.99</td>\n",
       "      <td>23.41</td>\n",
       "      <td>158.80</td>\n",
       "      <td>1956.0</td>\n",
       "      <td>0.1238</td>\n",
       "      <td>0.1866</td>\n",
       "      <td>0.2416</td>\n",
       "      <td>0.1860</td>\n",
       "      <td>0.2750</td>\n",
       "      <td>0.08902</td>\n",
       "    </tr>\n",
       "    <tr>\n",
       "      <th>2</th>\n",
       "      <td>84300903</td>\n",
       "      <td>M</td>\n",
       "      <td>19.69</td>\n",
       "      <td>21.25</td>\n",
       "      <td>130.00</td>\n",
       "      <td>1203.0</td>\n",
       "      <td>0.10960</td>\n",
       "      <td>0.15990</td>\n",
       "      <td>0.1974</td>\n",
       "      <td>0.12790</td>\n",
       "      <td>...</td>\n",
       "      <td>23.57</td>\n",
       "      <td>25.53</td>\n",
       "      <td>152.50</td>\n",
       "      <td>1709.0</td>\n",
       "      <td>0.1444</td>\n",
       "      <td>0.4245</td>\n",
       "      <td>0.4504</td>\n",
       "      <td>0.2430</td>\n",
       "      <td>0.3613</td>\n",
       "      <td>0.08758</td>\n",
       "    </tr>\n",
       "    <tr>\n",
       "      <th>3</th>\n",
       "      <td>84348301</td>\n",
       "      <td>M</td>\n",
       "      <td>11.42</td>\n",
       "      <td>20.38</td>\n",
       "      <td>77.58</td>\n",
       "      <td>386.1</td>\n",
       "      <td>0.14250</td>\n",
       "      <td>0.28390</td>\n",
       "      <td>0.2414</td>\n",
       "      <td>0.10520</td>\n",
       "      <td>...</td>\n",
       "      <td>14.91</td>\n",
       "      <td>26.50</td>\n",
       "      <td>98.87</td>\n",
       "      <td>567.7</td>\n",
       "      <td>0.2098</td>\n",
       "      <td>0.8663</td>\n",
       "      <td>0.6869</td>\n",
       "      <td>0.2575</td>\n",
       "      <td>0.6638</td>\n",
       "      <td>0.17300</td>\n",
       "    </tr>\n",
       "    <tr>\n",
       "      <th>4</th>\n",
       "      <td>84358402</td>\n",
       "      <td>M</td>\n",
       "      <td>20.29</td>\n",
       "      <td>14.34</td>\n",
       "      <td>135.10</td>\n",
       "      <td>1297.0</td>\n",
       "      <td>0.10030</td>\n",
       "      <td>0.13280</td>\n",
       "      <td>0.1980</td>\n",
       "      <td>0.10430</td>\n",
       "      <td>...</td>\n",
       "      <td>22.54</td>\n",
       "      <td>16.67</td>\n",
       "      <td>152.20</td>\n",
       "      <td>1575.0</td>\n",
       "      <td>0.1374</td>\n",
       "      <td>0.2050</td>\n",
       "      <td>0.4000</td>\n",
       "      <td>0.1625</td>\n",
       "      <td>0.2364</td>\n",
       "      <td>0.07678</td>\n",
       "    </tr>\n",
       "  </tbody>\n",
       "</table>\n",
       "<p>5 rows × 32 columns</p>\n",
       "</div>"
      ],
      "text/plain": [
       "         ID Diagnosis  radius1  texture1  perimeter1   area1  smoothness1  \\\n",
       "0    842302         M    17.99     10.38      122.80  1001.0      0.11840   \n",
       "1    842517         M    20.57     17.77      132.90  1326.0      0.08474   \n",
       "2  84300903         M    19.69     21.25      130.00  1203.0      0.10960   \n",
       "3  84348301         M    11.42     20.38       77.58   386.1      0.14250   \n",
       "4  84358402         M    20.29     14.34      135.10  1297.0      0.10030   \n",
       "\n",
       "   compactness1  concavity1  concave_points1  ...  radius3  texture3  \\\n",
       "0       0.27760      0.3001          0.14710  ...    25.38     17.33   \n",
       "1       0.07864      0.0869          0.07017  ...    24.99     23.41   \n",
       "2       0.15990      0.1974          0.12790  ...    23.57     25.53   \n",
       "3       0.28390      0.2414          0.10520  ...    14.91     26.50   \n",
       "4       0.13280      0.1980          0.10430  ...    22.54     16.67   \n",
       "\n",
       "   perimeter3   area3  smoothness3  compactness3  concavity3  concave_points3  \\\n",
       "0      184.60  2019.0       0.1622        0.6656      0.7119           0.2654   \n",
       "1      158.80  1956.0       0.1238        0.1866      0.2416           0.1860   \n",
       "2      152.50  1709.0       0.1444        0.4245      0.4504           0.2430   \n",
       "3       98.87   567.7       0.2098        0.8663      0.6869           0.2575   \n",
       "4      152.20  1575.0       0.1374        0.2050      0.4000           0.1625   \n",
       "\n",
       "   symmetry3  fractal_dimension3  \n",
       "0     0.4601             0.11890  \n",
       "1     0.2750             0.08902  \n",
       "2     0.3613             0.08758  \n",
       "3     0.6638             0.17300  \n",
       "4     0.2364             0.07678  \n",
       "\n",
       "[5 rows x 32 columns]"
      ]
     },
     "execution_count": 99,
     "metadata": {},
     "output_type": "execute_result"
    }
   ],
   "source": [
    "import pandas as pd\n",
    "\n",
    "# let's define the column names based on the dataset description\n",
    "column_names = [\n",
    "    \"ID\", \"Diagnosis\",\n",
    "    \"radius1\", \"texture1\", \"perimeter1\", \"area1\", \"smoothness1\", \"compactness1\", \"concavity1\", \"concave_points1\", \"symmetry1\", \"fractal_dimension1\",\n",
    "    \"radius2\", \"texture2\", \"perimeter2\", \"area2\", \"smoothness2\", \"compactness2\", \"concavity2\", \"concave_points2\", \"symmetry2\", \"fractal_dimension2\",\n",
    "    \"radius3\", \"texture3\", \"perimeter3\", \"area3\", \"smoothness3\", \"compactness3\", \"concavity3\", \"concave_points3\", \"symmetry3\", \"fractal_dimension3\"\n",
    "]\n",
    "file_path = \"data.csv\"\n",
    "df = pd.read_csv(file_path, header=None, names=column_names)\n",
    "df.head()\n"
   ]
  },
  {
   "cell_type": "markdown",
   "metadata": {},
   "source": [
    "---\n",
    "&nbsp;"
   ]
  },
  {
   "cell_type": "markdown",
   "metadata": {},
   "source": [
    "## 🚀 Modeling\n",
    "I chose hold-out validation technique for validation, so i split the dataset into a training set and a testing set, <br>in conjuction with the kNN classifier. 70% of the data will be used for training, 30% for testing. <br> Since our dataset had some features with very different scales, i applied standardization. I chose kNN classifier as machine learning method, i dropped 'Diagnosis' column so i only kept numerical values, my target variable was 'Diagnosis'. I tested the accuracity on Knn classifier on the test set with 3 different hyperparameter k values. **Conclusion:** The model performed best with `k=3`, achieving **77% accuracy**.\n",
    "\n"
   ]
  },
  {
   "cell_type": "code",
   "execution_count": 100,
   "metadata": {},
   "outputs": [
    {
     "name": "stdout",
     "output_type": "stream",
     "text": [
      "Accuracy of kNN classifier on the test set: 0.68\n",
      "['B' 'B' 'B' 'B' 'B' 'B' 'B' 'B' 'B' 'B']\n"
     ]
    }
   ],
   "source": [
    "import pandas as pd\n",
    "from sklearn.model_selection import train_test_split\n",
    "from sklearn.neighbors import KNeighborsClassifier\n",
    "from sklearn.preprocessing import StandardScaler\n",
    "from sklearn.metrics import accuracy_score\n",
    "\n",
    "X = df.drop(columns= 'Diagnosis') # Drop the 'Diagnosis' column, keep only numerical features\n",
    "y = df['Diagnosis']  # Target variable (Diagnosis of the patiant)\n",
    "\n",
    "# Split the dataset into a training set and a testing set\n",
    "# 70% of the data will be used for training, 30% for testing\n",
    "\n",
    "X_train, X_test, y_train, y_test = train_test_split(X, df['Diagnosis'], test_size=0.3,random_state=123)\n",
    "\n",
    "\n",
    "scaler = StandardScaler()\n",
    "X_train_scaled = scaler.fit_transform(X_train)  # Fit on train, transform train\n",
    "X_test_scaled = scaler.transform(X_test)  # Transform test (DO NOT FIT AGAIN!)\n",
    "# Create a kNN classificator\n",
    "# n_neighbors parameter specifies the number of neighbors to use (k)\n",
    "knn = KNeighborsClassifier(n_neighbors=8)\n",
    "\n",
    "# Train the kNN classifier on the training data\n",
    "knn.fit(X_train, y_train)\n",
    "\n",
    "## Use the trained classifier to predict labels for the test set\n",
    "y_pred = knn.predict(X_test)\n",
    "\n",
    "# Calculate and print the accuracy of the classifier on the test set\n",
    "accuracy_test = accuracy_score(y_test, y_pred)\n",
    "\n",
    "print(f\"Accuracy of kNN classifier on the test set: {accuracy_test:.2f}\")\n",
    "\n",
    "print(y_pred[:10])  # Show the first 10 predictions\n",
    "\n",
    "\n"
   ]
  },
  {
   "cell_type": "markdown",
   "metadata": {},
   "source": [
    "```markdown\n",
    "| k Value | Accuracy |\n",
    "|---------|----------|\n",
    "| 3       | 77%      |\n",
    "| 5       | 76%      |\n",
    "| 7       | 72%      |\n",
    "| 8       | 68%      |"
   ]
  },
  {
   "cell_type": "markdown",
   "metadata": {},
   "source": [
    "---\n",
    "&nbsp;"
   ]
  },
  {
   "cell_type": "markdown",
   "metadata": {},
   "source": [
    "## 📊 Evaluation\n",
    "After training the model, we assess its performance using a confusion matrix and key evaluation metrics such as accuracy, precision, recall. These metrics provide insights into the classifier's ability to correctly identify benign and malignant cases. The confusion matrix visually represents the model's predictions, indicating how many samples were correctly or incorrectly classified."
   ]
  },
  {
   "cell_type": "code",
   "execution_count": 101,
   "metadata": {},
   "outputs": [
    {
     "data": {
      "text/plain": [
       "<sklearn.metrics._plot.confusion_matrix.ConfusionMatrixDisplay at 0x292764a7dd0>"
      ]
     },
     "execution_count": 101,
     "metadata": {},
     "output_type": "execute_result"
    },
    {
     "data": {
      "image/png": "[encoded data removed]",
      "text/plain": [
       "<Figure size 640x480 with 2 Axes>"
      ]
     },
     "metadata": {},
     "output_type": "display_data"
    }
   ],
   "source": [
    "from sklearn.metrics import confusion_matrix, ConfusionMatrixDisplay\n",
    "\n",
    "# Predict using the trained model\n",
    "y_pred = knn.predict(X_test)  # Ensure knn is trained before this step\n",
    "\n",
    "# Create and display the confusion matrix\n",
    "cm = confusion_matrix(y_test, y_pred)\n",
    "cmd = ConfusionMatrixDisplay(cm, display_labels=['Benign', 'Malignant'])\n",
    "cmd.plot()\n"
   ]
  },
  {
   "cell_type": "code",
   "execution_count": 102,
   "metadata": {},
   "outputs": [
    {
     "name": "stdout",
     "output_type": "stream",
     "text": [
      "              precision    recall  f1-score   support\n",
      "\n",
      "      Benign       0.66      0.96      0.79       103\n",
      "   Malignant       0.82      0.26      0.40        68\n",
      "\n",
      "    accuracy                           0.68       171\n",
      "   macro avg       0.74      0.61      0.59       171\n",
      "weighted avg       0.73      0.68      0.63       171\n",
      "\n"
     ]
    }
   ],
   "source": [
    "from sklearn.metrics import classification_report\n",
    "\n",
    "print(classification_report(y_test, y_pred, target_names=[\"Benign\", \"Malignant\"]))"
   ]
  },
  {
   "cell_type": "markdown",
   "metadata": {},
   "source": [
    "#### **The following conclusions can be drawn** :\n",
    "- We can see that the yellow part is saying 99 was predicted correctly and 4 was predicted wrongly.\n",
    "- Malignant prediction was very bad as we can see, im not sure is suppose be like this in this assigment, i could try to fix it. But the **model predicted 50 Malignant cases as Benign** which is very bad."
   ]
  },
  {
   "cell_type": "markdown",
   "metadata": {},
   "source": [
    "#### **Perhaps the most common metric used to indicate the performance of the classifier is the *Accuracy*, and this is it:**\n",
    "(99 + 18)/171 = 0,6842 ≈ 68.42%\n"
   ]
  },
  {
   "cell_type": "markdown",
   "metadata": {},
   "source": [
    "#### **Now we will do *Recall* to show the ratio of correct class predictions to the total number of samples belonging to that class.**\n",
    "Benign : 99 / 103 = 0,961 ≈ 96%\n",
    "Malignant: 18  / 68 = 0,264 ≈ 24%\n"
   ]
  },
  {
   "cell_type": "markdown",
   "metadata": {},
   "source": [
    "#### **Next we'll do *Precision* to see the ratio of correct class predictions to the total number of predictions (given by the model) with that class**:\n",
    "Benign : 99 / 104 = 0,95 ≈ 95%\n",
    "Malignant : 18 / 69 = 0,26 ≈ 26%\n"
   ]
  },
  {
   "cell_type": "markdown",
   "metadata": {},
   "source": [
    "---\n",
    "&nbsp;"
   ]
  },
  {
   "cell_type": "markdown",
   "metadata": {},
   "source": [
    "## Deployment ##"
   ]
  },
  {
   "cell_type": "markdown",
   "metadata": {},
   "source": [
    "**How will the model be used in practice?**\n",
    "The trained k-Nearest Neighbors (kNN) classifier can be used as a decision support tool for doctors to help classify breast cancer tumors as benign (B) or malignant (M) based on patient data. In practice the model can be integrated into healthcare systems in the following ways:\n"
   ]
  },
  {
   "cell_type": "markdown",
   "metadata": {},
   "source": [
    "**1.Clinical Decision Support System**:\n",
    "* The model can be embedded into a hospital’s electronic health record system\n",
    "* When doctors enter a patient's biopsy results, the system will provide a predicted diagnosis (B or M).\n",
    "* The doctor can then use this prediction as an additional input when making decisions."
   ]
  },
  {
   "cell_type": "markdown",
   "metadata": {},
   "source": [
    "**2.Web-Based Application for Cancer Diagnosis:**\n",
    "* A web-based tool can be developed where users (e.g., medical professionals) input tumor characteristics.\n",
    "* The model will return a classification along with probabilities (e.g., \"Malignant: 78% confidence\")."
   ]
  },
  {
   "cell_type": "markdown",
   "metadata": {},
   "source": [
    "**How will the results be communicated?** To ensure the model’s predictions are understood and actionable, results should be presented clearly:"
   ]
  },
  {
   "cell_type": "markdown",
   "metadata": {},
   "source": [
    "**1.Confusion Matrix & Key Metrics:**\n",
    "* The confusion matrix shows the number of correct vs. incorrect predictions.\n",
    "* Key performance metrics such as accuracy, precision, recall, and F1-score should be reported regularly."
   ]
  },
  {
   "cell_type": "markdown",
   "metadata": {},
   "source": [
    "**2.Probability Scores for Predictions:**\n",
    "* Instead of just outputting \"Malignant\" or \"Benign,\" the model should provide a probability score (e.g., \"Malignant, 85% confidence\").\n",
    "* This will help doctors make informed decisions rather than relying entirely on the model."
   ]
  },
  {
   "cell_type": "markdown",
   "metadata": {},
   "source": [
    "**3.Regular Model Updates & Monitoring:**\n",
    "* Since medical data evolves, the model should be continuously evaluated and retrained with new patient data.\n",
    "* Performance metrics should be monitored over time to detect potential biases or drift in the model."
   ]
  }
 ],
 "metadata": {
  "kernelspec": {
   "display_name": "base",
   "language": "python",
   "name": "python3"
  },
  "language_info": {
   "codemirror_mode": {
    "name": "ipython",
    "version": 3
   },
   "file_extension": ".py",
   "mimetype": "text/x-python",
   "name": "python",
   "nbconvert_exporter": "python",
   "pygments_lexer": "ipython3",
   "version": "3.12.7"
  }
 },
 "nbformat": 4,
 "nbformat_minor": 2
}
